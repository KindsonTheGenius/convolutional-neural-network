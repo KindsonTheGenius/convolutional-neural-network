{
 "cells": [
  {
   "cell_type": "markdown",
   "id": "12a70e51",
   "metadata": {},
   "source": [
    "## CNN For Image Classification - PyTorch"
   ]
  },
  {
   "cell_type": "code",
   "execution_count": 14,
   "id": "f1e1e906",
   "metadata": {},
   "outputs": [],
   "source": [
    "import torch\n",
    "import torch.nn as nn\n",
    "import torch.optim as optim\n",
    "import torchvision\n",
    "import torchvision.transforms as transforms"
   ]
  }
 ],
 "metadata": {
  "kernelspec": {
   "display_name": "Tutorials-sFON5jcL",
   "language": "python",
   "name": "python3"
  },
  "language_info": {
   "codemirror_mode": {
    "name": "ipython",
    "version": 3
   },
   "file_extension": ".py",
   "mimetype": "text/x-python",
   "name": "python",
   "nbconvert_exporter": "python",
   "pygments_lexer": "ipython3",
   "version": "3.9.6"
  }
 },
 "nbformat": 4,
 "nbformat_minor": 5
}
