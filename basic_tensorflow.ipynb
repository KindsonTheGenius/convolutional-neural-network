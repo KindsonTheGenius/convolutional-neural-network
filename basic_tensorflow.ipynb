{
 "cells": [
  {
   "cell_type": "markdown",
   "metadata": {
    "id": "aDmLWgouYCKq"
   },
   "source": [
    "## CNN Using nn.Sequential"
   ]
  }
 ],
 "metadata": {
  "colab": {
   "authorship_tag": "ABX9TyNAlgaJt5+MknJWOTmoTEhe",
   "collapsed_sections": [
    "aDmLWgouYCKq"
   ],
   "provenance": [
    {
     "file_id": "1seaFEuDtnPauo9bGTEYFBCUcJOqL8ysz",
     "timestamp": 1746455223475
    }
   ]
  },
  "kernelspec": {
   "display_name": "Python 3",
   "name": "python3"
  },
  "language_info": {
   "name": "python"
  }
 },
 "nbformat": 4,
 "nbformat_minor": 0
}
